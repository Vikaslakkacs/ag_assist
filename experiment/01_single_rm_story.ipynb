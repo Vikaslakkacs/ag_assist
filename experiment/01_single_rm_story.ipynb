{
 "cells": [
  {
   "cell_type": "code",
   "execution_count": 8,
   "metadata": {},
   "outputs": [
    {
     "data": {
      "text/plain": [
       "True"
      ]
     },
     "execution_count": 8,
     "metadata": {},
     "output_type": "execute_result"
    }
   ],
   "source": [
    "import os\n",
    "from dotenv import load_dotenv\n",
    "from pprint import pprint\n",
    "load_dotenv()"
   ]
  },
  {
   "cell_type": "markdown",
   "metadata": {},
   "source": [
    "#### Creating a sample retriever\n",
    "* Create a retriever\n",
    "* load data\n",
    "* create a straight LLM \n",
    "* Ask questions"
   ]
  },
  {
   "cell_type": "markdown",
   "metadata": {},
   "source": [
    "* Load document"
   ]
  },
  {
   "cell_type": "code",
   "execution_count": 6,
   "metadata": {},
   "outputs": [],
   "source": [
    "from langchain_community.document_loaders import PyPDFLoader\n",
    "loader= PyPDFLoader(\"/Users/vikaslakka/Desktop/FSDS/GenAI/poc/scrum_master/ag_assist/dataset/rm_story.pdf\")\n",
    "pages = loader.load_and_split()"
   ]
  },
  {
   "cell_type": "code",
   "execution_count": 16,
   "metadata": {},
   "outputs": [
    {
     "name": "stdout",
     "output_type": "stream",
     "text": [
      "Document(metadata={'source': '/Users/vikaslakka/Desktop/FSDS/GenAI/poc/scrum_master/ag_assist/dataset/rm_story.pdf', 'page': 0}, page_content='Story Details Page 1\\nRun By : System Administrator 2024-08-01 01:38:27 Pacific Daylight TimeReport Title: Story Details\\nRun Date and Time: 2024-08-01 01:38:27 Pacific Daylight Time\\nRun by: System Administrator\\nTable name: rm_story\\nStory\\nNumber: STRY0010046\\nTheme:\\nEpic:\\nState: Complete\\nPoints: 1\\nSprint: ServiceNow Implementation R1 1Product:\\nRelease: HR ServiceNow Implementation \\nRelease 1\\nAssignment group: ServiceNow HR Development\\nAssigned to: Aileen Mottern (Product Owner)\\nBlocked: false\\nBlocked reason:\\nShort description:\\nReactivate HR Case modules\\nDescription:\\nReactivate the plugin in the instance\\nAcceptance criteria:\\nShuould be able to see HR demo data in HR case table\\xa0 \\nNotes\\nWork notes:\\n2024-08-01 01:37:41 - System Administrator (Work notes) \\n@Abel Tuter (architect):  Please confirm on the story \\n \\nRelated Records\\nDefect:\\nEnhancement:')\n"
     ]
    }
   ],
   "source": [
    "\n",
    "\n",
    "pprint(pages[0])"
   ]
  },
  {
   "cell_type": "markdown",
   "metadata": {},
   "source": [
    "### We got the pages\n",
    "* Now we will split the text\n",
    "* split docs\n",
    "* create retriever"
   ]
  },
  {
   "cell_type": "code",
   "execution_count": 34,
   "metadata": {},
   "outputs": [],
   "source": [
    "from langchain_community.vectorstores import FAISS\n",
    "from langchain_openai import OpenAIEmbeddings\n",
    "from langchain_text_splitters import RecursiveCharacterTextSplitter\n",
    "\n",
    "##3 Split ttext to chunks\n",
    "documents= RecursiveCharacterTextSplitter(\n",
    "    chunk_size=1000,\n",
    "    chunk_overlap=200,\n",
    "    \n",
    ").split_documents(pages)"
   ]
  },
  {
   "cell_type": "code",
   "execution_count": 72,
   "metadata": {},
   "outputs": [],
   "source": [
    "vector= FAISS.from_documents(documents, OpenAIEmbeddings())\n",
    "retriever= vector.as_retriever()\n"
   ]
  },
  {
   "cell_type": "code",
   "execution_count": 38,
   "metadata": {},
   "outputs": [
    {
     "data": {
      "text/plain": [
       "[Document(metadata={'source': '/Users/vikaslakka/Desktop/FSDS/GenAI/poc/scrum_master/ag_assist/dataset/rm_story.pdf', 'page': 0}, page_content='Story Details Page 1\\nRun By : System Administrator 2024-08-01 01:38:27 Pacific Daylight TimeReport Title: Story Details\\nRun Date and Time: 2024-08-01 01:38:27 Pacific Daylight Time\\nRun by: System Administrator\\nTable name: rm_story\\nStory\\nNumber: STRY0010046\\nTheme:\\nEpic:\\nState: Complete\\nPoints: 1\\nSprint: ServiceNow Implementation R1 1Product:\\nRelease: HR ServiceNow Implementation \\nRelease 1\\nAssignment group: ServiceNow HR Development\\nAssigned to: Aileen Mottern (Product Owner)\\nBlocked: false\\nBlocked reason:\\nShort description:\\nReactivate HR Case modules\\nDescription:\\nReactivate the plugin in the instance\\nAcceptance criteria:\\nShuould be able to see HR demo data in HR case table\\xa0 \\nNotes\\nWork notes:\\n2024-08-01 01:37:41 - System Administrator (Work notes) \\n@Abel Tuter (architect):  Please confirm on the story \\n \\nRelated Records\\nDefect:\\nEnhancement:')]"
      ]
     },
     "execution_count": 38,
     "metadata": {},
     "output_type": "execute_result"
    }
   ],
   "source": [
    "retriever.invoke(\"What is the number of the story?\")"
   ]
  },
  {
   "cell_type": "markdown",
   "metadata": {},
   "source": [
    "### We have retriever\n",
    "* We will create retriever tool that converts retriever to a tool"
   ]
  },
  {
   "cell_type": "code",
   "execution_count": 39,
   "metadata": {},
   "outputs": [],
   "source": [
    "from langchain.tools.retriever import create_retriever_tool"
   ]
  },
  {
   "cell_type": "code",
   "execution_count": 40,
   "metadata": {},
   "outputs": [],
   "source": [
    "retriever_tool= create_retriever_tool(\n",
    "    retriever,\n",
    "    \"story_retrieval\",\n",
    "    \"provides information about story retrieval in Agile project\"\n",
    ")"
   ]
  },
  {
   "cell_type": "code",
   "execution_count": 73,
   "metadata": {},
   "outputs": [],
   "source": [
    "## form a tool\n",
    "tools=[retriever_tool]"
   ]
  },
  {
   "cell_type": "markdown",
   "metadata": {},
   "source": [
    "### Create agent\n",
    "* Get LLM\n",
    "* attach tools to llm along with prompt"
   ]
  },
  {
   "cell_type": "code",
   "execution_count": 41,
   "metadata": {},
   "outputs": [],
   "source": [
    "from langchain_openai import ChatOpenAI\n",
    "llm= ChatOpenAI(model=\"gpt-3.5-turbo\",temperature=0)"
   ]
  },
  {
   "cell_type": "markdown",
   "metadata": {},
   "source": [
    "* Prompt loading"
   ]
  },
  {
   "cell_type": "code",
   "execution_count": 83,
   "metadata": {},
   "outputs": [],
   "source": [
    "from langchain.prompts import ChatPromptTemplate\n",
    "from langchain_core.prompts import MessagesPlaceholder\n",
    "template= \"\"\"\n",
    "You are a helpful assistant. This is about retrieving of story details in Agile project.\n",
    "            Data provided is a story detail. Kindly respond if you find details of the story for the question asked\n",
    "            otherwise respond politely that you do not know in your tone.\"\"\"\n",
    "\n",
    "story_reader_prompt = ChatPromptTemplate.from_messages(\n",
    "    [\n",
    "        (\"system\", template),\n",
    "        (\"user\", \"{input}\"),\n",
    "        MessagesPlaceholder(variable_name=\"agent_scratchpad\"),\n",
    "    ]\n",
    ")"
   ]
  },
  {
   "cell_type": "code",
   "execution_count": null,
   "metadata": {},
   "outputs": [],
   "source": []
  },
  {
   "cell_type": "markdown",
   "metadata": {},
   "source": [
    "### Create Agent now"
   ]
  },
  {
   "cell_type": "code",
   "execution_count": 84,
   "metadata": {},
   "outputs": [],
   "source": [
    "from langchain.agents import create_tool_calling_agent\n",
    "agent= create_tool_calling_agent(llm,tools, story_reader_prompt)"
   ]
  },
  {
   "cell_type": "markdown",
   "metadata": {},
   "source": [
    "### Create Agent executor"
   ]
  },
  {
   "cell_type": "code",
   "execution_count": 85,
   "metadata": {},
   "outputs": [],
   "source": [
    "from langchain.agents import AgentExecutor\n",
    "agent_executor= AgentExecutor(agent= agent, tools= tools, verbose=True)"
   ]
  },
  {
   "cell_type": "markdown",
   "metadata": {},
   "source": [
    "### Lets invoke"
   ]
  },
  {
   "cell_type": "code",
   "execution_count": 86,
   "metadata": {},
   "outputs": [
    {
     "name": "stdout",
     "output_type": "stream",
     "text": [
      "\n",
      "\n",
      "\u001b[1m> Entering new AgentExecutor chain...\u001b[0m\n",
      "\u001b[32;1m\u001b[1;3mHello! How can I assist you today?\u001b[0m\n",
      "\n",
      "\u001b[1m> Finished chain.\u001b[0m\n"
     ]
    },
    {
     "data": {
      "text/plain": [
       "{'input': 'Hello', 'output': 'Hello! How can I assist you today?'}"
      ]
     },
     "execution_count": 86,
     "metadata": {},
     "output_type": "execute_result"
    }
   ],
   "source": [
    "agent_executor.invoke({\"input\": \"Hello\"})"
   ]
  },
  {
   "cell_type": "code",
   "execution_count": 87,
   "metadata": {},
   "outputs": [
    {
     "name": "stdout",
     "output_type": "stream",
     "text": [
      "\n",
      "\n",
      "\u001b[1m> Entering new AgentExecutor chain...\u001b[0m\n",
      "\u001b[32;1m\u001b[1;3m\n",
      "Invoking: `story_retrieval` with `{'query': 'working notes'}`\n",
      "\n",
      "\n",
      "\u001b[0m\u001b[36;1m\u001b[1;3mStory Details Page 1\n",
      "Run By : System Administrator 2024-08-01 01:38:27 Pacific Daylight TimeReport Title: Story Details\n",
      "Run Date and Time: 2024-08-01 01:38:27 Pacific Daylight Time\n",
      "Run by: System Administrator\n",
      "Table name: rm_story\n",
      "Story\n",
      "Number: STRY0010046\n",
      "Theme:\n",
      "Epic:\n",
      "State: Complete\n",
      "Points: 1\n",
      "Sprint: ServiceNow Implementation R1 1Product:\n",
      "Release: HR ServiceNow Implementation \n",
      "Release 1\n",
      "Assignment group: ServiceNow HR Development\n",
      "Assigned to: Aileen Mottern (Product Owner)\n",
      "Blocked: false\n",
      "Blocked reason:\n",
      "Short description:\n",
      "Reactivate HR Case modules\n",
      "Description:\n",
      "Reactivate the plugin in the instance\n",
      "Acceptance criteria:\n",
      "Shuould be able to see HR demo data in HR case table  \n",
      "Notes\n",
      "Work notes:\n",
      "2024-08-01 01:37:41 - System Administrator (Work notes) \n",
      "@Abel Tuter (architect):  Please confirm on the story \n",
      " \n",
      "Related Records\n",
      "Defect:\n",
      "Enhancement:\u001b[0m\u001b[32;1m\u001b[1;3mThe working notes of the story are as follows:\n",
      "- 2024-08-01 01:37:41 - System Administrator (Work notes)\n",
      "- @Abel Tuter (architect): Please confirm on the story\u001b[0m\n",
      "\n",
      "\u001b[1m> Finished chain.\u001b[0m\n"
     ]
    },
    {
     "data": {
      "text/plain": [
       "{'input': 'What is the working notes of the story?',\n",
       " 'output': 'The working notes of the story are as follows:\\n- 2024-08-01 01:37:41 - System Administrator (Work notes)\\n- @Abel Tuter (architect): Please confirm on the story'}"
      ]
     },
     "execution_count": 87,
     "metadata": {},
     "output_type": "execute_result"
    }
   ],
   "source": [
    "agent_executor.invoke({\"input\": \"What is the working notes of the story?\"})"
   ]
  },
  {
   "cell_type": "code",
   "execution_count": 88,
   "metadata": {},
   "outputs": [
    {
     "name": "stdout",
     "output_type": "stream",
     "text": [
      "\n",
      "\n",
      "\u001b[1m> Entering new AgentExecutor chain...\u001b[0m\n",
      "\u001b[32;1m\u001b[1;3m\n",
      "Invoking: `story_retrieval` with `{'query': 'assignment group'}`\n",
      "\n",
      "\n",
      "\u001b[0m\u001b[36;1m\u001b[1;3mStory Details Page 1\n",
      "Run By : System Administrator 2024-08-01 01:38:27 Pacific Daylight TimeReport Title: Story Details\n",
      "Run Date and Time: 2024-08-01 01:38:27 Pacific Daylight Time\n",
      "Run by: System Administrator\n",
      "Table name: rm_story\n",
      "Story\n",
      "Number: STRY0010046\n",
      "Theme:\n",
      "Epic:\n",
      "State: Complete\n",
      "Points: 1\n",
      "Sprint: ServiceNow Implementation R1 1Product:\n",
      "Release: HR ServiceNow Implementation \n",
      "Release 1\n",
      "Assignment group: ServiceNow HR Development\n",
      "Assigned to: Aileen Mottern (Product Owner)\n",
      "Blocked: false\n",
      "Blocked reason:\n",
      "Short description:\n",
      "Reactivate HR Case modules\n",
      "Description:\n",
      "Reactivate the plugin in the instance\n",
      "Acceptance criteria:\n",
      "Shuould be able to see HR demo data in HR case table  \n",
      "Notes\n",
      "Work notes:\n",
      "2024-08-01 01:37:41 - System Administrator (Work notes) \n",
      "@Abel Tuter (architect):  Please confirm on the story \n",
      " \n",
      "Related Records\n",
      "Defect:\n",
      "Enhancement:\u001b[0m\u001b[32;1m\u001b[1;3mThe assignment group of the story is \"ServiceNow HR Development\".\u001b[0m\n",
      "\n",
      "\u001b[1m> Finished chain.\u001b[0m\n"
     ]
    }
   ],
   "source": [
    "response= agent_executor.invoke({\"input\": \"What is the assignment group of the story?\"})"
   ]
  },
  {
   "cell_type": "code",
   "execution_count": 89,
   "metadata": {},
   "outputs": [
    {
     "data": {
      "text/plain": [
       "'The assignment group of the story is \"ServiceNow HR Development\".'"
      ]
     },
     "execution_count": 89,
     "metadata": {},
     "output_type": "execute_result"
    }
   ],
   "source": [
    "response['output']"
   ]
  },
  {
   "cell_type": "markdown",
   "metadata": {},
   "source": [
    "#### Lets Stick to only result now\n",
    "* disable verbose"
   ]
  },
  {
   "cell_type": "code",
   "execution_count": 90,
   "metadata": {},
   "outputs": [],
   "source": [
    "from langchain.agents import AgentExecutor\n",
    "agent_executor= AgentExecutor(agent= agent, tools= tools, verbose=False)"
   ]
  },
  {
   "cell_type": "code",
   "execution_count": 91,
   "metadata": {},
   "outputs": [
    {
     "data": {
      "text/plain": [
       "'The story does not mention any defects.'"
      ]
     },
     "execution_count": 91,
     "metadata": {},
     "output_type": "execute_result"
    }
   ],
   "source": [
    "response= agent_executor.invoke({\"input\": \"defects in the story?\"})\n",
    "response['output']"
   ]
  },
  {
   "cell_type": "code",
   "execution_count": 92,
   "metadata": {},
   "outputs": [
    {
     "data": {
      "text/plain": [
       "'The story does not have any enhancements mentioned in the details.'"
      ]
     },
     "execution_count": 92,
     "metadata": {},
     "output_type": "execute_result"
    }
   ],
   "source": [
    "response= agent_executor.invoke({\"input\": \"Does story has any enhancements in the story?\"})\n",
    "response['output']"
   ]
  },
  {
   "cell_type": "code",
   "execution_count": 93,
   "metadata": {},
   "outputs": [
    {
     "data": {
      "text/plain": [
       "'The working story of the story is to reactivate HR Case modules by reactivating the plugin in the instance. The acceptance criteria include being able to see HR demo data in the HR case table.'"
      ]
     },
     "execution_count": 93,
     "metadata": {},
     "output_type": "execute_result"
    }
   ],
   "source": [
    "response= agent_executor.invoke({\"input\": \"What is working story of the story?\"})\n",
    "response['output']"
   ]
  },
  {
   "cell_type": "code",
   "execution_count": 94,
   "metadata": {},
   "outputs": [
    {
     "data": {
      "text/plain": [
       "'The working notes of the story are as follows:\\n- 2024-08-01 01:37:41 - System Administrator (Work notes)\\n  @Abel Tuter (architect): Please confirm on the story'"
      ]
     },
     "execution_count": 94,
     "metadata": {},
     "output_type": "execute_result"
    }
   ],
   "source": [
    "response= agent_executor.invoke({\"input\": \"What is working notes of the story?\"})\n",
    "response['output']"
   ]
  },
  {
   "cell_type": "code",
   "execution_count": 95,
   "metadata": {},
   "outputs": [
    {
     "data": {
      "text/plain": [
       "'The story is set to be reviewed by Aileen Mottern, who is the Product Owner.'"
      ]
     },
     "execution_count": 95,
     "metadata": {},
     "output_type": "execute_result"
    }
   ],
   "source": [
    "response= agent_executor.invoke({\"input\": \"To Whom this story set reviewer?\"})\n",
    "response['output']"
   ]
  },
  {
   "cell_type": "code",
   "execution_count": 96,
   "metadata": {},
   "outputs": [
    {
     "data": {
      "text/plain": [
       "'The summary of the ticket is \"Reactivate HR Case modules\"'"
      ]
     },
     "execution_count": 96,
     "metadata": {},
     "output_type": "execute_result"
    }
   ],
   "source": [
    "response= agent_executor.invoke({\"input\": \"What is the summary of the ticket?\"})\n",
    "response['output']"
   ]
  },
  {
   "cell_type": "code",
   "execution_count": null,
   "metadata": {},
   "outputs": [],
   "source": []
  }
 ],
 "metadata": {
  "kernelspec": {
   "display_name": "lang_graph",
   "language": "python",
   "name": "python3"
  },
  "language_info": {
   "codemirror_mode": {
    "name": "ipython",
    "version": 3
   },
   "file_extension": ".py",
   "mimetype": "text/x-python",
   "name": "python",
   "nbconvert_exporter": "python",
   "pygments_lexer": "ipython3",
   "version": "3.10.14"
  }
 },
 "nbformat": 4,
 "nbformat_minor": 2
}
